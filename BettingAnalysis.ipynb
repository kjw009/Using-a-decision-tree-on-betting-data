{
 "cells": [
  {
   "cell_type": "markdown",
   "metadata": {},
   "source": [
    "# # Table of Bets\n",
    "\n",
    "Mustard Systems have come up with a new strategy for horse racing, and have just completed a test\n",
    "phase betting small stakes bets before offering it’s strategy to clients. 3200 bets have been made duringn the test and a small profit has been made.\n",
    "\n",
    "This analysis will be investigating the data in **bet_table.csv** to gain insights on the profitabilty of bets under certain conditions to provide an optimised betting solution to increase profits."
   ]
  },
  {
   "cell_type": "code",
   "execution_count": 26,
   "metadata": {},
   "outputs": [],
   "source": [
    "# Import relevant modules\n",
    "import pandas as pd \n",
    "import numpy as np\n",
    "import matplotlib.pyplot as plt"
   ]
  },
  {
   "cell_type": "code",
   "execution_count": 175,
   "metadata": {},
   "outputs": [
    {
     "name": "stdout",
     "output_type": "stream",
     "text": [
      "   Stakes  Odds  Available  Num_Runners Race_Type      Going  Days  \\\n",
      "0       2  2.90         41            6      FLAT  GOOD/SOFT    33   \n",
      "1       2  7.20       1589           10    HURDLE       FIRM    19   \n",
      "2       2  1.04        169           14    HURDLE      HEAVY     6   \n",
      "3       2  2.26         75            9      FLAT       FAST    15   \n",
      "4       5  1.83        248           16    HURDLE       SOFT    14   \n",
      "\n",
      "   Bet_Strength  Result  \n",
      "0             2   LOSER  \n",
      "1             3  WINNER  \n",
      "2             2  WINNER  \n",
      "3             2   LOSER  \n",
      "4             4   LOSER  \n",
      "3208\n"
     ]
    }
   ],
   "source": [
    "# Read CSV\n",
    "df = pd.read_csv('bet_table.csv')\n",
    "print(df.head())"
   ]
  },
  {
   "cell_type": "code",
   "execution_count": 77,
   "metadata": {},
   "outputs": [],
   "source": [
    "# Create a class that will perform relevant analysis on bet_table.csv. This class can be used on any betting data\n",
    "class BettingInfo:\n",
    "    def __init__(self, betting_df):\n",
    "        # Add a profits columns to the betting data\n",
    "        calculate_profits = lambda row : (row['Stakes'] * row['Odds']) - row['Stakes']\\\n",
    "        if row['Result'] == 'WINNER'\\\n",
    "        else (-row['Stakes'] if row['Result'] == 'LOSER' else 0)  \n",
    "        betting_df['Profits'] = betting_df.apply(calculate_profits, axis = 1)\n",
    "        # Initialise variable to be used for other class functions\n",
    "        self.df = betting_df\n",
    "        \n",
    "    # Function to print the new dataframe\n",
    "    def print_df(self):\n",
    "        return self.df\n",
    "\n",
    "    # Method to calculate the win rate and mean profit for every unique number of runners\n",
    "    def analyse_num_runners(self):\n",
    "        # Create a data frame for mean profits for each unique number of runners\n",
    "        mean_profit_per_num_runners = self.df.groupby('Num_Runners').Profits.mean().reset_index()\n",
    "        \n",
    "        # Create a data frame that groups every unique number of runners\n",
    "        win_rate_per_num_runners = self.df.Result.eq('WINNER').groupby(df.Num_Runners).mean().mul(100).reset_index()\n",
    "        win_rate_per_num_runners.rename(columns = {\n",
    "            'Result' : 'Win Rate (%)'\n",
    "        },inplace = True)\n",
    "        \n",
    "        # Inner join both data frames\n",
    "        num_runners_df = mean_profit_per_num_runners.merge(win_rate_per_num_runners, how = 'inner', on = 'Num_Runners')\n",
    "        # Rename columns \n",
    "        num_runners_df.rename(columns = {\n",
    "            'Profits' : 'Mean Profit',\n",
    "        },inplace = True)\n",
    "        \n",
    "        # Return data frame.\n",
    "        return num_runners_df\n",
    "    \n",
    "    # Method to calculate the mean profit and win rate for each bet strength value\n",
    "    def analyse_bet_strength(self):\n",
    "        # Create data frame for mean profits for each bet strength\n",
    "        mean_profit_per_bet_strength = self.df.groupby('Bet_Strength').Profits.mean().reset_index()\n",
    "        \n",
    "        # Create data frame for the win rate for each bet strength value\n",
    "        win_rate_per_bet_strength = self.df.Result.eq('WINNER').groupby(df.Bet_Strength).mean().mul(100).reset_index()\n",
    "        \n",
    "        # Inner join both data frames\n",
    "        bet_strength_df = mean_profit_per_bet_strength.merge(win_rate_per_bet_strength, how = 'inner', on = 'Bet_Strength')\n",
    "        # Rename columns\n",
    "        bet_strength_df.rename(columns = {\n",
    "            'Profits': 'Mean Profit',\n",
    "            'Result': 'Win Rate (%)'\n",
    "        }, inplace = True)\n",
    "        \n",
    "        return bet_strength_df\n",
    "    \n",
    "    # Method to calculate the mean profits and win rates for each race type\n",
    "    def analyse_race_type(self):\n",
    "        # Create data frame for mean profits for each race type\n",
    "        mean_profit_per_race_type = self.df.groupby('Race_Type').Profits.mean().reset_index()\n",
    "        \n",
    "        # Create data frame for the win rate for each race type\n",
    "        win_rate_per_race_type = self.df.Result.eq('WINNER').groupby(df.Race_Type).mean().mul(100).reset_index()\n",
    "        \n",
    "        # Inner join both data frames and rename columns\n",
    "        race_type_df = mean_profit_per_race_type.merge(win_rate_per_race_type, how = 'inner', on = 'Race_Type')\n",
    "        race_type_df.rename(columns = {\n",
    "            'Result' : 'Win Rate (%)',\n",
    "            'Profits' : 'Mean Profit'\n",
    "        },inplace = True)\n",
    "        \n",
    "        #Return data frame\n",
    "        return race_type_df\n",
    "    \n",
    "    # Method to calculate the mean profits and win rates for every condition the ground was in\n",
    "    def analyse_going(self):\n",
    "        # Create data frame for mean profits for each ground condition\n",
    "        mean_profit_per_going = self.df.groupby('Going').Profits.mean().reset_index()\n",
    "        \n",
    "        # Create data frame for the win rate for each ground condition\n",
    "        win_rate_per_going = self.df.Result.eq('WINNER').groupby(df.Going).mean().mul(100).reset_index()\n",
    "        \n",
    "        # Inner join both data frames and rename columns\n",
    "        going_df = mean_profit_per_going.merge(win_rate_per_going, how = 'inner', on = 'Going')\n",
    "        going_df.rename(columns = {\n",
    "            'Result' : 'Win Rate (%)',\n",
    "            'Profits' : 'Mean Profit'\n",
    "        })\n",
    "        \n",
    "        # Return data frame\n",
    "        return going_df\n",
    "    \n",
    "    # Method to calculate the mean profits and win rates per day since the horse has last ran \n",
    "    def analyse_days(self):\n",
    "        # Create data frame for mean profits for each day since the horse last run\n",
    "        mean_profit_per_days = self.df.groupby('Days').Profits.mean().reset_index()\n",
    "        \n",
    "        # Create data frame for the win rate for each day since the horse last run\n",
    "        win_rate_per_days = self.df.Result.eq('WINNER').groupby(df.Days).mean().mul(100).reset_index()\n",
    "        \n",
    "        # Inner join both data frames and rename columns\n",
    "        days_df = mean_profit_per_days.merge(win_rate_per_days, how = 'inner', on = 'Days')\n",
    "        days_df.rename(columns = {\n",
    "            'Result' : 'Win Rate (%)',\n",
    "            'Profits' : 'Mean Profit'\n",
    "        })\n",
    "        \n",
    "        # Return data frame\n",
    "        return days_df\n",
    "    \n",
    "    # Method to calculate the mean profits and win rates for each decimal odds \n",
    "    def analyse_odds(self):\n",
    "        # Create data frame for mean profits for each decimal odds\n",
    "        mean_profit_per_odds = self.df.groupby('Odds').Profits.mean().reset_index()\n",
    "        \n",
    "        # Create data frame for the win rate for each decimal odds\n",
    "        win_rate_per_odds = self.df.Result.eq('WINNER').groupby(df.Odds).mean().mul(100).reset_index()\n",
    "        \n",
    "        # Inner join both data frames and rename columns\n",
    "        odds_df = mean_profit_per_odds.merge(win_rate_per_odds, how = 'inner', on = 'Odds')\n",
    "        odds_df.rename(columns = {\n",
    "            'Result' : 'Win Rate (%)',\n",
    "            'Profits' : 'Mean Profit'\n",
    "        })\n",
    "        \n",
    "        # Return data frame\n",
    "        return odds_df\n",
    "    \n",
    "    # Method to calculate the mean profits and win rates for each available amount to stake\n",
    "    def analyse_available(self):\n",
    "        # Create data frame for mean profits for each available amount to stake\n",
    "        mean_profit_per_available = self.df.groupby('Available').Profits.mean().reset_index()\n",
    "        \n",
    "        # Create data frame for the win rate for each available amount to stake\n",
    "        win_rate_per_available = self.df.Result.eq('WINNER').groupby(df.Available).mean().mul(100).reset_index()\n",
    "        \n",
    "        # Inner join both data frames and rename columns\n",
    "        available_df = mean_profit_per_available.merge(win_rate_per_available, how = 'inner', on = 'Available')\n",
    "        available_df.rename(columns = {\n",
    "            'Result' : 'Win Rate (%)',\n",
    "            'Profits' : 'Mean Profit'\n",
    "        })\n",
    "        \n",
    "        # Return data frame\n",
    "        return available_df"
   ]
  },
  {
   "cell_type": "markdown",
   "metadata": {},
   "source": [
    "Before analysis, the data should go through some minor cleaning. Bets with the NON_RUNNER result should be removed as they provide no information on wether certain race conditions are better or worse as the result is never discovered.\n",
    "\n",
    "To start analysing, an instance of the BettingInfo class will need to be declared with the df (**bet_table.csv**) passed in as the argument. "
   ]
  },
  {
   "cell_type": "code",
   "execution_count": 177,
   "metadata": {},
   "outputs": [],
   "source": [
    "# Remove rows where the result == NON_RUNNER\n",
    "df = df[df.Result != 'NON_RUNNER']\n",
    "# Make instance of the BettingInfo class\n",
    "analyse_bet_data = BettingInfo(df)"
   ]
  },
  {
   "cell_type": "code",
   "execution_count": 178,
   "metadata": {},
   "outputs": [
    {
     "name": "stdout",
     "output_type": "stream",
     "text": [
      "    Num_Runners  Mean Profit  Win Rate (%)\n",
      "0             5    -1.018067     30.252101\n",
      "1             6    -0.350504     36.330935\n",
      "2             7    -0.022706     41.176471\n",
      "3             8     1.830226     43.969849\n",
      "4             9     0.342222     47.222222\n",
      "5            10     0.129105     49.416342\n",
      "6            11     0.148009     43.362832\n",
      "7            12     0.486763     46.859903\n",
      "8            13     0.380186     52.795031\n",
      "9            14     1.637647     60.294118\n",
      "10           15     0.604821     52.678571\n",
      "11           16    -0.055566     46.226415\n",
      "12           17     0.012584     47.191011\n",
      "13           18     0.343012     53.012048\n",
      "14           19    -0.287547     37.735849\n",
      "15           20    -1.133929     37.500000\n",
      "16           21     0.949608     43.137255\n",
      "17           22    -1.562000     28.000000\n",
      "18           23    -0.318421     47.368421\n",
      "19           24    -2.580000     15.789474\n",
      "20           25    -0.254000     30.000000\n"
     ]
    }
   ],
   "source": [
    "num_runners_df = analyse_bet_data.analyse_num_runners()\n",
    "print(num_runners_df)"
   ]
  },
  {
   "cell_type": "code",
   "execution_count": 179,
   "metadata": {},
   "outputs": [
    {
     "data": {
      "image/png": "[encoded data removed]",
      "text/plain": [
       "<Figure size 432x288 with 1 Axes>"
      ]
     },
     "metadata": {
      "needs_background": "light"
     },
     "output_type": "display_data"
    }
   ],
   "source": [
    "plt.plot(num_runners_df['Num_Runners'], num_runners_df['Win Rate (%)'], color='crimson')\n",
    "plt.title(\"The win rate for each number of runners\", fontsize=15, pad = 20)\n",
    "plt.xlabel(\"Num_Runner\")\n",
    "plt.ylabel(\"Win Rate (%)\")\n",
    "plt.xticks(np.arange(min(num_runners_df['Num_Runners']), max(num_runners_df['Num_Runners'])+1, 2.0))\n",
    "plt.show()"
   ]
  },
  {
   "cell_type": "markdown",
   "metadata": {},
   "source": [
    "From the analysis above, the win rate increased for bets as number of runners increased from 5 to around 14. From there, the win rate significantly decreased at 19 runners and the general trend was negative from 14 runners. \n",
    "\n",
    "To optimise the stragedy, bets with number of runners between 13 to 15 should be taken as these were the only bets with a highest win rate or alteast close to that range. High number of runners from 20+ are extremely risky as all 52 bets of number of runners equalling 21 didn't win. As well as vice versa, races with less than 8 runners is significantly riskier. Choosing races with 14 runners is very optimal as this had the highest win rate out of all the different num_runner races and was significantly higher than most of the other races in the data."
   ]
  },
  {
   "cell_type": "code",
   "execution_count": 181,
   "metadata": {},
   "outputs": [
    {
     "name": "stdout",
     "output_type": "stream",
     "text": [
      "   Bet_Strength  Mean Profit  Win Rate (%)\n",
      "0             1    -0.071151     42.302358\n",
      "1             2    -0.069775     42.800528\n",
      "2             3     0.115211     44.489796\n",
      "3             4     1.761134     49.484536\n",
      "4             5     0.318295     45.530146\n"
     ]
    }
   ],
   "source": [
    "bet_strength_df = analyse_bet_data.analyse_bet_strength()\n",
    "print(bet_strength_df)"
   ]
  },
  {
   "cell_type": "code",
   "execution_count": 182,
   "metadata": {},
   "outputs": [
    {
     "data": {
      "text/plain": [
       "Text(0.5, 1.0, 'The win rate of bets for each bet strength value')"
      ]
     },
     "execution_count": 182,
     "metadata": {},
     "output_type": "execute_result"
    },
    {
     "data": {
      "image/png": "[encoded data removed]",
      "text/plain": [
       "<Figure size 432x288 with 1 Axes>"
      ]
     },
     "metadata": {
      "needs_background": "light"
     },
     "output_type": "display_data"
    }
   ],
   "source": [
    "plt.bar(bet_strength_df['Bet_Strength'],bet_strength_df['Win Rate (%)'], width=0.64, color=\"crimson\")\n",
    "plt.xlabel(\"Bet Strength\")\n",
    "plt.ylabel(\"Win Rate %\")\n",
    "plt.title(\"The win rate of bets for each bet strength value\", fontsize = 15, pad = 20)"
   ]
  },
  {
   "cell_type": "markdown",
   "metadata": {},
   "source": [
    "Generally, bet strength didn't affect the win rate of bets significantly especially between the increase of bet strength from 1 to 2.  However, bet strength 4 performed the best with a 49 percent win rate.\n",
    "\n",
    "It can be concluded that bet strength is not a strong indicator to determine if a bet should be taken or not, however bet strength 4 should be favoured over the rest. "
   ]
  },
  {
   "cell_type": "code",
   "execution_count": 183,
   "metadata": {},
   "outputs": [
    {
     "name": "stdout",
     "output_type": "stream",
     "text": [
      "  Race_Type  Mean Profit  Win Rate (%)\n",
      "0     CHASE     0.407662     50.521921\n",
      "1      FLAT     0.389163     43.067093\n",
      "2    HURDLE     0.161674     43.964758\n"
     ]
    }
   ],
   "source": [
    "race_types_df = analyse_bet_data.analyse_race_type()\n",
    "print(race_types_df)"
   ]
  },
  {
   "cell_type": "code",
   "execution_count": 184,
   "metadata": {},
   "outputs": [
    {
     "data": {
      "text/plain": [
       "Text(0.5, 1.0, 'The win rate of bets for each race type')"
      ]
     },
     "execution_count": 184,
     "metadata": {},
     "output_type": "execute_result"
    },
    {
     "data": {
      "image/png": "[encoded data removed]",
      "text/plain": [
       "<Figure size 432x288 with 1 Axes>"
      ]
     },
     "metadata": {
      "needs_background": "light"
     },
     "output_type": "display_data"
    }
   ],
   "source": [
    "plt.bar(race_types_df['Race_Type'],race_types_df['Win Rate (%)'], width=0.64, color=\"crimson\")\n",
    "plt.xlabel(\"Race Type\")\n",
    "plt.ylabel(\"Win Rate %\")\n",
    "plt.title(\"The win rate of bets for each race type\", fontsize = 15, pad = 20)"
   ]
  },
  {
   "cell_type": "markdown",
   "metadata": {},
   "source": [
    "Bets with the race type chase performed significantly better than the flat and hurdle race types. Chase race bets had a 50.20% win rate.\n",
    "\n",
    "It can be concluded, that races with chase as the race type should be favoured to optimise the stragedy. "
   ]
  },
  {
   "cell_type": "code",
   "execution_count": 185,
   "metadata": {},
   "outputs": [
    {
     "name": "stdout",
     "output_type": "stream",
     "text": [
      "       Going   Profits     Result\n",
      "0       FAST  0.013744  45.814978\n",
      "1       FIRM  0.722375  47.291667\n",
      "2      GOOD   0.336697  48.498845\n",
      "3  GOOD/FIRM  0.197440  46.854664\n",
      "4  GOOD/SOFT -0.127527  42.733189\n",
      "5      HEAVY  0.714154  35.824176\n",
      "6       SOFT  0.303149  44.597701\n"
     ]
    }
   ],
   "source": [
    "going_df = analyse_bet_data.analyse_going()\n",
    "print(going_df)"
   ]
  },
  {
   "cell_type": "code",
   "execution_count": 186,
   "metadata": {},
   "outputs": [
    {
     "data": {
      "text/plain": [
       "Text(0.5, 1.0, 'The win rate of bets for each race type')"
      ]
     },
     "execution_count": 186,
     "metadata": {},
     "output_type": "execute_result"
    },
    {
     "data": {
      "image/png": "[encoded data removed]",
      "text/plain": [
       "<Figure size 864x360 with 1 Axes>"
      ]
     },
     "metadata": {
      "needs_background": "light"
     },
     "output_type": "display_data"
    }
   ],
   "source": [
    "plt.figure(figsize=(12, 5)) \n",
    "plt.bar(going_df['Going'],going_df['Result'], width=0.64, color=\"crimson\")\n",
    "plt.xlabel(\"Condition\")\n",
    "plt.ylabel(\"Win Rate %\")\n",
    "plt.title(\"The win rate of bets for each race type\", fontsize = 15, pad = 20)"
   ]
  },
  {
   "cell_type": "markdown",
   "metadata": {},
   "source": [
    "None of the race conditions prooved to be significantly the best options. FAST, FIRM and GOOD are good choices as they all have win rates near the same range, with GOOD having the highest win rate. GOOD/SOFT, HEAVY and SOFT have noticably lower win rates with heavy being significanltly the worst.\n",
    "\n",
    "In conclusion, HEAVY races should be avoided to optimise the strategy and GOOD races should be favoured the most. HEAVY AND GOOD/SOFT races seem to impact the win rate the most negatively."
   ]
  },
  {
   "cell_type": "code",
   "execution_count": 187,
   "metadata": {},
   "outputs": [
    {
     "name": "stdout",
     "output_type": "stream",
     "text": [
      "     Days   Profits     Result\n",
      "0       5 -1.110526  47.368421\n",
      "1       6 -0.531842  42.105263\n",
      "2       7 -0.376102  42.372881\n",
      "3       8  0.528676  58.823529\n",
      "4       9 -0.344000  40.000000\n",
      "..    ...       ...        ...\n",
      "103   115 -5.000000   0.000000\n",
      "104   116 -5.000000   0.000000\n",
      "105   118 -5.000000   0.000000\n",
      "106   121 -2.000000   0.000000\n",
      "107   125 -2.000000   0.000000\n",
      "\n",
      "[108 rows x 3 columns]\n"
     ]
    }
   ],
   "source": [
    "days_df = analyse_bet_data.analyse_days()\n",
    "print(days_df)"
   ]
  },
  {
   "cell_type": "code",
   "execution_count": 188,
   "metadata": {},
   "outputs": [
    {
     "data": {
      "image/png": "[encoded data removed]",
      "text/plain": [
       "<Figure size 432x288 with 1 Axes>"
      ]
     },
     "metadata": {
      "needs_background": "light"
     },
     "output_type": "display_data"
    }
   ],
   "source": [
    "plt.scatter(days_df['Days'], days_df['Profits'], color='crimson')\n",
    "plt.title(\"The win rate for each number of days since the horse last ran\", fontsize=14, pad = 20)\n",
    "plt.xlabel(\"Number of days since the horse last ran\")\n",
    "plt.ylabel(\"Total Profits\")\n",
    "plt.ylim(-7, 10)\n",
    "plt.xticks(np.arange(min(days_df['Days']), max(days_df['Days'])+1, 10.0))\n",
    "\n",
    "# Calculate equation for trendline\n",
    "z = np.polyfit(days_df['Days'], days_df['Profits'], 1)\n",
    "p = np.poly1d(z)\n",
    "plt.plot(days_df['Days'], p(days_df['Days']), 'r--')\n",
    "\n",
    "plt.show()"
   ]
  },
  {
   "cell_type": "markdown",
   "metadata": {},
   "source": [
    "From the general trend, as the number of days since the horse last ran increased, the total profits for the corresponding bets decreased. However, the were greater variance in profits past 65 days. This can be expected as the number of odds for those horses can be higher as the likelyness of them winning is lower, resulting in greater profits. \n",
    "\n",
    "Inconclusion, horses with a lower number of days should be favoured with days lower than 65 being a good selection. However, this factor should not be the most important when deciding which races to bet on as horses with higher number of days since last ran can provide greater profits due to having greater odds."
   ]
  },
  {
   "cell_type": "code",
   "execution_count": 189,
   "metadata": {},
   "outputs": [
    {
     "name": "stdout",
     "output_type": "stream",
     "text": [
      "       Odds   Profits      Result\n",
      "0      1.01  0.029231  100.000000\n",
      "1      1.02 -0.420000   86.666667\n",
      "2      1.03 -0.074167   91.666667\n",
      "3      1.04 -0.021176   94.117647\n",
      "4      1.05 -0.056250   95.833333\n",
      "..      ...       ...         ...\n",
      "240  500.00 -2.545455    0.000000\n",
      "241  600.00 -3.285714    0.000000\n",
      "242  700.00 -2.428571    0.000000\n",
      "243  800.00 -2.937500    0.000000\n",
      "244  900.00 -2.750000    0.000000\n",
      "\n",
      "[245 rows x 3 columns]\n"
     ]
    }
   ],
   "source": [
    "odds_df = analyse_bet_data.analyse_odds()\n",
    "print(odds_df)"
   ]
  },
  {
   "cell_type": "code",
   "execution_count": 190,
   "metadata": {},
   "outputs": [
    {
     "name": "stdout",
     "output_type": "stream",
     "text": [
      "      Available   Profits      Result\n",
      "0             2  0.230370   44.444444\n",
      "1             3  3.011304   47.826087\n",
      "2             4  0.353333   44.444444\n",
      "3             5 -1.186389   38.888889\n",
      "4             6  0.112727   48.484848\n",
      "...         ...       ...         ...\n",
      "1004       2041 -2.000000    0.000000\n",
      "1005       2054  0.840000  100.000000\n",
      "1006       2077 -2.000000    0.000000\n",
      "1007       2148  4.950000  100.000000\n",
      "1008       2150 -2.000000    0.000000\n",
      "\n",
      "[1009 rows x 3 columns]\n"
     ]
    }
   ],
   "source": [
    "available_df = analyse_bet_data.analyse_available()\n",
    "print(available_df)"
   ]
  },
  {
   "cell_type": "code",
   "execution_count": 191,
   "metadata": {},
   "outputs": [
    {
     "data": {
      "image/png": "[encoded data removed]",
      "text/plain": [
       "<Figure size 432x288 with 1 Axes>"
      ]
     },
     "metadata": {
      "needs_background": "light"
     },
     "output_type": "display_data"
    }
   ],
   "source": [
    "plt.scatter(available_df['Available'], available_df['Profits'], color='crimson')\n",
    "plt.title(\"The win rate per available amount to stake\", fontsize=14, pad = 20)\n",
    "plt.xlabel(\"Available for stake\")\n",
    "plt.ylabel(\"Total Profits\")\n",
    "plt.ylim(-7, 10)\n",
    "plt.xticks(np.arange(min(available_df['Available']) - 2, max(available_df['Available']) + 2, 200.0))\n",
    "\n",
    "# Calculate equation for trendline\n",
    "z = np.polyfit(available_df['Available'], available_df['Profits'], 1)\n",
    "p = np.poly1d(z)\n",
    "plt.plot(available_df['Available'], p(available_df['Available']), 'g--')\n",
    "\n",
    "plt.show()"
   ]
  },
  {
   "cell_type": "markdown",
   "metadata": {},
   "source": [
    "From the gereral trend, as the avalialbe amount to stake increased, the total profits decreased. Therefore, it is best to choose races where the available amount to stake is lower.\n",
    "\n",
    "To summarise, the most optimal conditions for races that produced the highest win rate were: Race_Type = CHASE, Bet_Strength = 4 and Num_Runners = 14. Lower amount to stake races should be prioritise slighlty but didn't affect profits significantly. Therewere greater variance for horses that had races less often , but the general trend in profits  as the number of days since last ran increased was negative."
   ]
  }
 ],
 "metadata": {
  "kernelspec": {
   "display_name": "Python 3",
   "language": "python",
   "name": "python3"
  },
  "language_info": {
   "codemirror_mode": {
    "name": "ipython",
    "version": 3
   },
   "file_extension": ".py",
   "mimetype": "text/x-python",
   "name": "python",
   "nbconvert_exporter": "python",
   "pygments_lexer": "ipython3",
   "version": "3.8.5"
  }
 },
 "nbformat": 4,
 "nbformat_minor": 4
}
