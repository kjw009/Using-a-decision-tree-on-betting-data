{
 "cells": [
  {
   "cell_type": "markdown",
   "metadata": {},
   "source": [
    "# Using a Decision Tree \n",
    "\n",
    "Using the dataset **bet_table.csv**, a decision tree ML model can be trained to predict wether a bet with any condition is worth taking. To achieve this, the **bet_table.csv** will need to be altered before our model can be trained"
   ]
  },
  {
   "cell_type": "code",
   "execution_count": 184,
   "metadata": {},
   "outputs": [],
   "source": [
    "# Import relevant modules\n",
    "import numpy as np\n",
    "import pandas as pd\n",
    "import matplotlib.pyplot as plt\n",
    "from sklearn.preprocessing import LabelEncoder\n",
    "from sklearn.model_selection import train_test_split\n",
    "from sklearn import tree\n",
    "from sklearn.metrics import accuracy_score\n",
    "from sklearn.metrics import precision_score\n",
    "from sklearn.metrics import recall_score\n",
    "from sklearn.metrics import classification_report"
   ]
  },
  {
   "cell_type": "code",
   "execution_count": 185,
   "metadata": {},
   "outputs": [
    {
     "name": "stdout",
     "output_type": "stream",
     "text": [
      "      Stakes  Odds  Available  Num_Runners Race_Type      Going  Days  \\\n",
      "0          2  2.90         41            6      FLAT  GOOD/SOFT    33   \n",
      "1          2  7.20       1589           10    HURDLE       FIRM    19   \n",
      "2          2  1.04        169           14    HURDLE      HEAVY     6   \n",
      "3          2  2.26         75            9      FLAT       FAST    15   \n",
      "4          5  1.83        248           16    HURDLE       SOFT    14   \n",
      "...      ...   ...        ...          ...       ...        ...   ...   \n",
      "3203       5  1.69        561            7     CHASE      HEAVY    37   \n",
      "3204       5  9.60         41            6     CHASE      GOOD     79   \n",
      "3205       2  1.44        846           10    HURDLE      GOOD     19   \n",
      "3206       5  3.35         19            7     CHASE  GOOD/SOFT    62   \n",
      "3207       2  1.21         46            7     CHASE      GOOD     22   \n",
      "\n",
      "      Bet_Strength  Result  \n",
      "0                2   LOSER  \n",
      "1                3  WINNER  \n",
      "2                2  WINNER  \n",
      "3                2   LOSER  \n",
      "4                4   LOSER  \n",
      "...            ...     ...  \n",
      "3203             5  WINNER  \n",
      "3204             4   LOSER  \n",
      "3205             1   LOSER  \n",
      "3206             4   LOSER  \n",
      "3207             2  WINNER  \n",
      "\n",
      "[3208 rows x 9 columns]\n"
     ]
    }
   ],
   "source": [
    "# Read CSV\n",
    "df = pd.read_csv('bet_table.csv')\n",
    "print(df)"
   ]
  },
  {
   "cell_type": "markdown",
   "metadata": {},
   "source": [
    "In the Result column, there are NON_RUNNER bets. These provide no information to our model as the outcome is never known. Getting a NON_RUNNER result is very likely due to other outside factors which our dataset does not have. Removing this will improve our model."
   ]
  },
  {
   "cell_type": "code",
   "execution_count": 201,
   "metadata": {},
   "outputs": [],
   "source": [
    "# Remove rows where the reuslt is equal to NON_RUNNER as it does not provide information to the model\n",
    "df = df[df.Result != 'NON_RUNNER']\n",
    "# Convert columns that are string values into int values\n",
    "encoder = LabelEncoder()\n",
    "df['Race_Type'] = encoder.fit_transform(df['Race_Type'])\n",
    "df['Going'] = encoder.fit_transform(df['Going'])\n",
    "df['Result'] = encoder.fit_transform(df['Result'])\n",
    "\n",
    "# Remove results column from df so the dataset is split from X (inputs) and y (labels).\n",
    "inputs = df.drop('Result', axis = 'columns')\n",
    "labels = df['Result']\n",
    "\n",
    "# Create a dictionary for result. Key : Int => Race_Type/Going/Result\n",
    "result = {\n",
    "    0 : \"LOSER\",\n",
    "    1 : \"WINNER\"\n",
    "}"
   ]
  },
  {
   "cell_type": "code",
   "execution_count": 202,
   "metadata": {},
   "outputs": [
    {
     "data": {
      "text/plain": [
       "{'ccp_alpha': 0.0,\n",
       " 'class_weight': None,\n",
       " 'criterion': 'gini',\n",
       " 'max_depth': 3,\n",
       " 'max_features': None,\n",
       " 'max_leaf_nodes': None,\n",
       " 'min_impurity_decrease': 0.0,\n",
       " 'min_samples_leaf': 1,\n",
       " 'min_samples_split': 2,\n",
       " 'min_weight_fraction_leaf': 0.0,\n",
       " 'random_state': None,\n",
       " 'splitter': 'best'}"
      ]
     },
     "execution_count": 202,
     "metadata": {},
     "output_type": "execute_result"
    }
   ],
   "source": [
    "# Split the dataset into training and testing datasets. We don't have a large dataset so \n",
    "# a 10 percent test size is chosen\n",
    "X_train, X_test, y_train, y_test = train_test_split(inputs, labels, test_size=0.1)\n",
    "\n",
    "# Declare decision tree instance \n",
    "bet_tree = DecisionTreeClassifier(max_depth=3)\n",
    "bet_tree.fit(X_train, y_train)\n",
    "# Print params\n",
    "bet_tree.get_params()"
   ]
  },
  {
   "cell_type": "code",
   "execution_count": 203,
   "metadata": {},
   "outputs": [
    {
     "name": "stdout",
     "output_type": "stream",
     "text": [
      "Test set accuraccy tree: 0.7924528301886793\n"
     ]
    }
   ],
   "source": [
    "# Perform evaluation metrics on the model\n",
    "bet_tree_score = bet_tree.score(X_test, y_test)\n",
    "# Print score\n",
    "print(f'Test set accuraccy tree: {tree_score}')"
   ]
  },
  {
   "cell_type": "markdown",
   "metadata": {},
   "source": [
    "Out of 321 bets, the model has succefully predicted the outcome correctly for 79% of the data. However, using accuracy as a statistic to determine the effectiveness of the model is not useful for this context. Calculating the precision score is more effective as False Negative bets are not important for the use of this model. To explain, if a bet resulted in a false negative result, no money will be lost. If a bet was taken and it resulted in a false positive, money will be lost. Therefore, it is better to determine the accuracy of our model by precision."
   ]
  },
  {
   "cell_type": "code",
   "execution_count": 204,
   "metadata": {},
   "outputs": [
    {
     "data": {
      "text/plain": [
       "0.7210884353741497"
      ]
     },
     "execution_count": 204,
     "metadata": {},
     "output_type": "execute_result"
    }
   ],
   "source": [
    "# Produce prediction from test set\n",
    "y_pred = bet_tree.predict(X_test)\n",
    "precision_score(y_test, y_pred)"
   ]
  },
  {
   "cell_type": "markdown",
   "metadata": {},
   "source": [
    "For all the bets where the model predicted the runner will be a winner, 73% was correct. This score indicated that our model is effective for the context as using this model to determine wether certain future should be taken, will be profitable. ( The score needs to be greater than 0.50 to be profitable).\n",
    "\n",
    "It is also important to know what percentage of bets that resulted in winning the model got correct. This would be known as recall. A low score would mean that the model is overfitted with the dataset."
   ]
  },
  {
   "cell_type": "code",
   "execution_count": 205,
   "metadata": {},
   "outputs": [
    {
     "data": {
      "text/plain": [
       "0.7310344827586207"
      ]
     },
     "execution_count": 205,
     "metadata": {},
     "output_type": "execute_result"
    }
   ],
   "source": [
    "recall_score(y_test, y_pred)"
   ]
  },
  {
   "cell_type": "markdown",
   "metadata": {},
   "source": [
    "Only around 27% of bets were not taken that were successful. "
   ]
  },
  {
   "cell_type": "code",
   "execution_count": 206,
   "metadata": {},
   "outputs": [
    {
     "data": {
      "image/png": "[encoded data removed]",
      "text/plain": [
       "<Figure size 432x288 with 1 Axes>"
      ]
     },
     "metadata": {
      "needs_background": "light"
     },
     "output_type": "display_data"
    }
   ],
   "source": [
    "# Visualising the decision tree model\n",
    "plt.figure()\n",
    "tree.plot_tree(bet_tree,\n",
    "               feature_names=X_train.columns,\n",
    "               class_names=[\"LOSER\", \"WINNER\"],\n",
    "               rounded=True,\n",
    "               filled=True)\n",
    "plt.savefig('bet_tree_plot.png')"
   ]
  },
  {
   "cell_type": "markdown",
   "metadata": {},
   "source": [
    "A future bet is coming up where there is £400 available at odds of 10, there are 8 runners,Race_Type=FLAT, Going=FIRM, Days=20 and Bet_Strength=4. We can use the model to predict wether the bet should be taken with either 2 or 5 pounds as stake."
   ]
  },
  {
   "cell_type": "code",
   "execution_count": 207,
   "metadata": {},
   "outputs": [
    {
     "name": "stdout",
     "output_type": "stream",
     "text": [
      "The model has predicted the result for this bet with 2 pounds as stake will be LOSER\n",
      "The model has predicted the result for this bet with 5 pounds as stake will be LOSER\n"
     ]
    },
    {
     "name": "stderr",
     "output_type": "stream",
     "text": [
      "C:\\Users\\Kevin\\anaconda3\\lib\\site-packages\\sklearn\\base.py:450: UserWarning: X does not have valid feature names, but DecisionTreeClassifier was fitted with feature names\n",
      "  warnings.warn(\n",
      "C:\\Users\\Kevin\\anaconda3\\lib\\site-packages\\sklearn\\base.py:450: UserWarning: X does not have valid feature names, but DecisionTreeClassifier was fitted with feature names\n",
      "  warnings.warn(\n"
     ]
    }
   ],
   "source": [
    "# Predict outcome with 2 pounds as stake\n",
    "result1 = bet_tree.predict([[2,10,400,8,1,1,20,4]])\n",
    "print(\"The model has predicted the result for this bet with 2 pounds as stake will be\",result[result1[0]])\n",
    "result2 = bet_tree.predict([[5,10,400,8,1,1,20,4]])\n",
    "print(\"The model has predicted the result for this bet with 5 pounds as stake will be\",result[result2[0]])"
   ]
  },
  {
   "cell_type": "markdown",
   "metadata": {},
   "source": [
    "The model has predicted that using both stakes, the bet will result in the runner losing. Therefore, this bet should not be taken. This is likely due to the odds being too high. Furthermore, the conditions of the races are not optimal using the analysis from **BettingAnalysis.ipynb**. For race type, it was discovered that the most optimal was CHASE. FLAT race types produced a fairly signifcantly reduction in win rate. In addition it was stated to optimise bet selection, the number of runners in a race should be around 13 - 15. 8 runners is too far from the range and races with that many runners produced a significantly lower win rate. The other conditions for this bet were optimal enough, but the impact of those conditions was not enough to outweigh the conditions that were not optimal."
   ]
  }
 ],
 "metadata": {
  "kernelspec": {
   "display_name": "Python 3",
   "language": "python",
   "name": "python3"
  },
  "language_info": {
   "codemirror_mode": {
    "name": "ipython",
    "version": 3
   },
   "file_extension": ".py",
   "mimetype": "text/x-python",
   "name": "python",
   "nbconvert_exporter": "python",
   "pygments_lexer": "ipython3",
   "version": "3.8.5"
  }
 },
 "nbformat": 4,
 "nbformat_minor": 4
}
